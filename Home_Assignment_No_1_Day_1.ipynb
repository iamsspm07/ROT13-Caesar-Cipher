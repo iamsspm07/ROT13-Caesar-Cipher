{
  "nbformat": 4,
  "nbformat_minor": 0,
  "metadata": {
    "colab": {
      "name": "Home_Assignment_No-1_Day-1.ipynb",
      "provenance": [],
      "collapsed_sections": []
    },
    "kernelspec": {
      "name": "python3",
      "display_name": "Python 3"
    },
    "language_info": {
      "name": "python"
    }
  },
  "cells": [
    {
      "cell_type": "markdown",
      "source": [
        "## **Problem 01**\n",
        "\n",
        "### **ROT 13**\n",
        "\n",
        "Implement a function which accepts a string as an argument and generates the ROT13 Caesar Cipher.\n",
        "\n",
        "The ROT-13 (i.e. rotate by 13 places) method is a very simple encryption method, in which one replaces each letter of the alphabet with the 13th letter after it. So, ‘A’ becomes ‘N’, ‘B’ becomes ‘M’ and so on. This method is a special case of the Caesar Cipher, with which Caesar encoded his letters in the ancient Rome.\n",
        "\n",
        "Here is our approach for encoding a given string:\n",
        "\n",
        "* Check if given input has all valid characters, i.e every character is an  alphabet [a - z or A - Z] - function is_string() returns \"True\" if the char is an alphabet.\n",
        "\n",
        "* As the next step we need to add 13 to  character and encode the character- rot13() returns the encoded character of the input character\n",
        "\n",
        "* Now we generate the encoded string using the function - generate_encrypted_string() which returns encoded string"
      ],
      "metadata": {
        "id": "tHKQQ62PzSjd"
      }
    },
    {
      "cell_type": "code",
      "source": [
        "import re\n",
        "\n",
        "def is_string(text: str) -> bool:\n",
        "\n",
        "  patter = re.compile('[@_!#$%^&*()<>?/\\|}{~:]')\n",
        "\n",
        "  if(patter.search(text) == None):\n",
        "    return True\n",
        "  return False\n",
        "\n",
        "def rot13(ch: str) -> str:\n",
        "\n",
        "  list_small = list(map(chr, range(97, 123)))\n",
        "  list_caps = list(map(chr, range(65, 91)))\n",
        "\n",
        "  if(ch.isupper()):\n",
        "    return list_caps[(list_caps.index(ch) + 13) % 26]\n",
        "  elif(ch.islower()):\n",
        "    return list_small[(list_small.index(ch) + 13) % 26] \n",
        "\n",
        "def generate_encrypted_text(text: str) -> str:\n",
        "    result = \"\"\n",
        "\n",
        "    if(is_string(text)):\n",
        "      for char in text:\n",
        "        if(char.isalpha()):\n",
        "          result += rot13(char)\n",
        "        else:\n",
        "          result += char\n",
        "      \n",
        "      return result\n",
        "    else:\n",
        "      return \"Invalid String !\"\n",
        "\n",
        "\n",
        "generate_encrypted_text(\"NPCI ,Talentsprint\")"
      ],
      "metadata": {
        "colab": {
          "base_uri": "https://localhost:8080/",
          "height": 36
        },
        "id": "8uG1MJ03zjz0",
        "outputId": "4f76e685-f105-462c-992b-faabec896138"
      },
      "execution_count": null,
      "outputs": [
        {
          "output_type": "execute_result",
          "data": {
            "text/plain": [
              "'ACPV ,Gnyragfcevag'"
            ],
            "application/vnd.google.colaboratory.intrinsic+json": {
              "type": "string"
            }
          },
          "metadata": {},
          "execution_count": 1
        }
      ]
    },
    {
      "cell_type": "code",
      "source": [
        "generate_encrypted_text(\"ACPV ,Gnyragfcevag\")"
      ],
      "metadata": {
        "id": "_W9w-kMPieDP",
        "colab": {
          "base_uri": "https://localhost:8080/",
          "height": 36
        },
        "outputId": "73831408-c2d9-4d25-fd15-fa4c5ec396af"
      },
      "execution_count": null,
      "outputs": [
        {
          "output_type": "execute_result",
          "data": {
            "text/plain": [
              "'NPCI ,Talentsprint'"
            ],
            "application/vnd.google.colaboratory.intrinsic+json": {
              "type": "string"
            }
          },
          "metadata": {},
          "execution_count": 13
        }
      ]
    },
    {
      "cell_type": "markdown",
      "source": [
        "## **Problem 02**\n",
        "\n",
        "### **Find Intersection**\n",
        "\n",
        "Write a function, find_intersection(), that reads a list of two strings:\n",
        "\n",
        "* The first is a list of comma-separated numbers sorted in ascending order\n",
        "* The second element is another list of comma-separated numbers (also sorted)\n",
        "\n",
        "Your goal is to return a string of numbers that occur in both elements of the input list in sorted order. If there is no intersection, return the string **\"No Intersection\"**\n",
        "\n",
        "**Sample Input 1:**\n",
        "\n",
        "[\"1, 3, 4, 7, 13\", \"1, 2, 4, 13, 15\"]\n",
        "\n",
        "**Sample Output 1:**\n",
        "\n",
        "\"1, 4, 13\"\n",
        "\n",
        "**Sample Input 2:**\n",
        "\n",
        "[\"11, 32, 43, 72, 138\", \"12, 26, 24, 113, 150\"]\n",
        "\n",
        "**Sample Output 2:**\n",
        "\n",
        "\"No Intersection\""
      ],
      "metadata": {
        "id": "ynSgqwx7WHD-"
      }
    },
    {
      "cell_type": "code",
      "source": [
        "from typing import List\n",
        "\n",
        "def comma_to_list(string: str)-> List[int]:\n",
        "    return string.split(\",\")\n",
        "\n",
        "def find_intersection(arr: List[str]) -> str:\n",
        "    result = []\n",
        "\n",
        "    first_list=comma_to_list(arr[0])\n",
        "    second_list=comma_to_list(arr[1])\n",
        "\n",
        "\n",
        "# Intersection checking\n",
        "    for char in first_list:\n",
        "        if char in second_list:\n",
        "            result.append(char)\n",
        "    if len(result) > 0:\n",
        "        return \",\".join(result)\n",
        "    \n",
        "    return \"No Intersection\"\n",
        "     \n",
        "\n",
        "\n",
        "# find_intersection([\"0, 3, 8, 7, 23\", \"1, 2, 4, 13, 15\"]) "
      ],
      "metadata": {
        "id": "degXwhfyWI62"
      },
      "execution_count": null,
      "outputs": []
    },
    {
      "cell_type": "code",
      "source": [
        "find_intersection([\"1, 3, 4, 7, 13\", \"1, 2, 4, 13, 15\"])"
      ],
      "metadata": {
        "colab": {
          "base_uri": "https://localhost:8080/",
          "height": 36
        },
        "id": "GuP-81eLk7Nd",
        "outputId": "1b4ef589-627a-4467-f307-9ea3e169dc99"
      },
      "execution_count": null,
      "outputs": [
        {
          "output_type": "execute_result",
          "data": {
            "text/plain": [
              "'1, 4, 13'"
            ],
            "application/vnd.google.colaboratory.intrinsic+json": {
              "type": "string"
            }
          },
          "metadata": {},
          "execution_count": 12
        }
      ]
    },
    {
      "cell_type": "code",
      "source": [
        "find_intersection([\"10, 20, 30, 40, 50\", \"1, 2, 4, 13, 15\"]) "
      ],
      "metadata": {
        "colab": {
          "base_uri": "https://localhost:8080/",
          "height": 36
        },
        "id": "-ZkUSs7Wp5f_",
        "outputId": "6ef0ffb3-8412-4fb7-c091-1455f1a7258f"
      },
      "execution_count": null,
      "outputs": [
        {
          "output_type": "execute_result",
          "data": {
            "text/plain": [
              "'No Intersection'"
            ],
            "application/vnd.google.colaboratory.intrinsic+json": {
              "type": "string"
            }
          },
          "metadata": {},
          "execution_count": 14
        }
      ]
    }
  ]
}